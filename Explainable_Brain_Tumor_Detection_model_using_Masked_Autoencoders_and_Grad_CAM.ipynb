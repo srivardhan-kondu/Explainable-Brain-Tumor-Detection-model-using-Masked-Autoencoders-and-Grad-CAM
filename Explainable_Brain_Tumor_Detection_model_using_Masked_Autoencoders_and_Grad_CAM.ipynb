{
  "nbformat": 4,
  "nbformat_minor": 0,
  "metadata": {
    "colab": {
      "provenance": [],
      "mount_file_id": "10wuvGGC1MA40Skdn6QMkVWPXlW_GnWT0",
      "authorship_tag": "ABX9TyPuHnFWkhYxFiOWfE3+oaMQ",
      "include_colab_link": true
    },
    "kernelspec": {
      "name": "python3",
      "display_name": "Python 3"
    },
    "language_info": {
      "name": "python"
    }
  },
  "cells": [
    {
      "cell_type": "markdown",
      "metadata": {
        "id": "view-in-github",
        "colab_type": "text"
      },
      "source": [
        "<a href=\"https://colab.research.google.com/github/srivardhan-kondu/Explainable-Brain-Tumor-Detection-model-using-Masked-Autoencoders-and-Grad-CAM/blob/main/Explainable_Brain_Tumor_Detection_model_using_Masked_Autoencoders_and_Grad_CAM.ipynb\" target=\"_parent\"><img src=\"https://colab.research.google.com/assets/colab-badge.svg\" alt=\"Open In Colab\"/></a>"
      ]
    },
    {
      "cell_type": "code",
      "source": [
        "import tensorflow as tf\n",
        "import matplotlib.pyplot as plt\n"
      ],
      "metadata": {
        "id": "blURfNhQIDLN"
      },
      "execution_count": 20,
      "outputs": []
    },
    {
      "cell_type": "code",
      "source": [
        "from google.colab import drive\n",
        "drive.mount('/content/drive')"
      ],
      "metadata": {
        "colab": {
          "base_uri": "https://localhost:8080/"
        },
        "id": "BjLBGMM3IKJ-",
        "outputId": "a07c8367-6c55-445b-e20a-6704a85030f0"
      },
      "execution_count": 21,
      "outputs": [
        {
          "output_type": "stream",
          "name": "stdout",
          "text": [
            "Drive already mounted at /content/drive; to attempt to forcibly remount, call drive.mount(\"/content/drive\", force_remount=True).\n"
          ]
        }
      ]
    },
    {
      "cell_type": "code",
      "source": [
        "dataset_path = '/content/drive/MyDrive/brain_tumor_dataset'"
      ],
      "metadata": {
        "id": "R6DJeT7vINjf"
      },
      "execution_count": 22,
      "outputs": []
    }
  ]
}